{
  "nbformat": 4,
  "nbformat_minor": 0,
  "metadata": {
    "colab": {
      "name": "fcc_book_recommendation_knn.ipynb",
      "provenance": [],
      "collapsed_sections": [],
      "include_colab_link": true
    },
    "kernelspec": {
      "display_name": "Python 3",
      "language": "python",
      "name": "python3"
    },
    "language_info": {
      "codemirror_mode": {
        "name": "ipython",
        "version": 3
      },
      "file_extension": ".py",
      "mimetype": "text/x-python",
      "name": "python",
      "nbconvert_exporter": "python",
      "pygments_lexer": "ipython3",
      "version": "3.6.5"
    }
  },
  "cells": [
    {
      "cell_type": "markdown",
      "metadata": {
        "id": "view-in-github",
        "colab_type": "text"
      },
      "source": [
        "<a href=\"https://colab.research.google.com/github/junwei2110/FreeCodeCamp_MachineLearning/blob/Book-Recommendation-KNN/fcc_book_recommendation_knn.ipynb\" target=\"_parent\"><img src=\"https://colab.research.google.com/assets/colab-badge.svg\" alt=\"Open In Colab\"/></a>"
      ]
    },
    {
      "cell_type": "markdown",
      "metadata": {
        "id": "uGd4NYQX1Rf_"
      },
      "source": [
        "*Note: You are currently reading this using Google Colaboratory which is a cloud-hosted version of Jupyter Notebook. This is a document containing both text cells for documentation and runnable code cells. If you are unfamiliar with Jupyter Notebook, watch this 3-minute introduction before starting this challenge: https://www.youtube.com/watch?v=inN8seMm7UI*\n",
        "\n",
        "---\n",
        "\n",
        "In this challenge, you will create a book recommendation algorithm using **K-Nearest Neighbors**.\n",
        "\n",
        "You will use the [Book-Crossings dataset](http://www2.informatik.uni-freiburg.de/~cziegler/BX/). This dataset contains 1.1 million ratings (scale of 1-10) of 270,000 books by 90,000 users. \n",
        "\n",
        "After importing and cleaning the data, use `NearestNeighbors` from `sklearn.neighbors` to develop a model that shows books that are similar to a given book. The Nearest Neighbors algorithm measures distance to determine the “closeness” of instances.\n",
        "\n",
        "Create a function named `get_recommends` that takes a book title (from the dataset) as an argument and returns a list of 5 similar books with their distances from the book argument.\n",
        "\n",
        "This code:\n",
        "\n",
        "`get_recommends(\"The Queen of the Damned (Vampire Chronicles (Paperback))\")`\n",
        "\n",
        "should return:\n",
        "\n",
        "```\n",
        "[\n",
        "  'The Queen of the Damned (Vampire Chronicles (Paperback))',\n",
        "  [\n",
        "    ['Catch 22', 0.793983519077301], \n",
        "    ['The Witching Hour (Lives of the Mayfair Witches)', 0.7448656558990479], \n",
        "    ['Interview with the Vampire', 0.7345068454742432],\n",
        "    ['The Tale of the Body Thief (Vampire Chronicles (Paperback))', 0.5376338362693787],\n",
        "    ['The Vampire Lestat (Vampire Chronicles, Book II)', 0.5178412199020386]\n",
        "  ]\n",
        "]\n",
        "```\n",
        "\n",
        "Notice that the data returned from `get_recommends()` is a list. The first element in the list is the book title passed in to the function. The second element in the list is a list of five more lists. Each of the five lists contains a recommended book and the distance from the recommended book to the book passed in to the function.\n",
        "\n",
        "If you graph the dataset (optional), you will notice that most books are not rated frequently. To ensure statistical significance, remove from the dataset users with less than 200 ratings and books with less than 100 ratings.\n",
        "\n",
        "The first three cells import libraries you may need and the data to use. The final cell is for testing. Write all your code in between those cells."
      ]
    },
    {
      "cell_type": "code",
      "metadata": {
        "id": "Y1onB6kUvo4Z"
      },
      "source": [
        "# import libraries (you may add additional imports but you may not have to)\n",
        "import numpy as np\n",
        "import pandas as pd\n",
        "from scipy.sparse import csr_matrix\n",
        "from sklearn.neighbors import NearestNeighbors\n",
        "import matplotlib.pyplot as plt"
      ],
      "execution_count": null,
      "outputs": []
    },
    {
      "cell_type": "code",
      "metadata": {
        "id": "iAQGqqO_vo4d",
        "colab": {
          "base_uri": "https://localhost:8080/"
        },
        "outputId": "7440d8af-3272-4d5a-d721-247ebf475a38"
      },
      "source": [
        "# get data files\n",
        "!wget https://cdn.freecodecamp.org/project-data/books/book-crossings.zip\n",
        "\n",
        "!unzip book-crossings.zip\n",
        "\n",
        "books_filename = 'BX-Books.csv'\n",
        "ratings_filename = 'BX-Book-Ratings.csv'"
      ],
      "execution_count": null,
      "outputs": [
        {
          "output_type": "stream",
          "text": [
            "--2021-06-14 14:27:42--  https://cdn.freecodecamp.org/project-data/books/book-crossings.zip\n",
            "Resolving cdn.freecodecamp.org (cdn.freecodecamp.org)... 104.26.3.33, 172.67.70.149, 104.26.2.33, ...\n",
            "Connecting to cdn.freecodecamp.org (cdn.freecodecamp.org)|104.26.3.33|:443... connected.\n",
            "HTTP request sent, awaiting response... 200 OK\n",
            "Length: 26085508 (25M) [application/zip]\n",
            "Saving to: ‘book-crossings.zip.6’\n",
            "\n",
            "book-crossings.zip. 100%[===================>]  24.88M   135MB/s    in 0.2s    \n",
            "\n",
            "2021-06-14 14:27:42 (135 MB/s) - ‘book-crossings.zip.6’ saved [26085508/26085508]\n",
            "\n",
            "Archive:  book-crossings.zip\n",
            "replace BX-Book-Ratings.csv? [y]es, [n]o, [A]ll, [N]one, [r]ename: A\n",
            "  inflating: BX-Book-Ratings.csv     \n",
            "  inflating: BX-Books.csv            \n",
            "  inflating: BX-Users.csv            \n"
          ],
          "name": "stdout"
        }
      ]
    },
    {
      "cell_type": "code",
      "metadata": {
        "id": "NClILWOiEd6Q"
      },
      "source": [
        "# import csv data into dataframes\n",
        "df_books = pd.read_csv(\n",
        "    books_filename,\n",
        "    encoding = \"ISO-8859-1\",\n",
        "    sep=\";\",\n",
        "    header=0,\n",
        "    names=['isbn', 'title', 'author'],\n",
        "    usecols=['isbn', 'title', 'author'],\n",
        "    dtype={'isbn': 'str', 'title': 'str', 'author': 'str'})\n",
        "\n",
        "df_ratings = pd.read_csv(\n",
        "    ratings_filename,\n",
        "    encoding = \"ISO-8859-1\",\n",
        "    sep=\";\",\n",
        "    header=0,\n",
        "    names=['user', 'isbn', 'rating'],\n",
        "    usecols=['user', 'isbn', 'rating'],\n",
        "    dtype={'user': 'int32', 'isbn': 'str', 'rating': 'float32'})"
      ],
      "execution_count": null,
      "outputs": []
    },
    {
      "cell_type": "code",
      "metadata": {
        "colab": {
          "base_uri": "https://localhost:8080/",
          "height": 204
        },
        "id": "dvuebVXOt1vy",
        "outputId": "8366d03b-5979-40c2-ac5a-85df69029776"
      },
      "source": [
        "df_books.head()"
      ],
      "execution_count": null,
      "outputs": [
        {
          "output_type": "execute_result",
          "data": {
            "text/html": [
              "<div>\n",
              "<style scoped>\n",
              "    .dataframe tbody tr th:only-of-type {\n",
              "        vertical-align: middle;\n",
              "    }\n",
              "\n",
              "    .dataframe tbody tr th {\n",
              "        vertical-align: top;\n",
              "    }\n",
              "\n",
              "    .dataframe thead th {\n",
              "        text-align: right;\n",
              "    }\n",
              "</style>\n",
              "<table border=\"1\" class=\"dataframe\">\n",
              "  <thead>\n",
              "    <tr style=\"text-align: right;\">\n",
              "      <th></th>\n",
              "      <th>isbn</th>\n",
              "      <th>title</th>\n",
              "      <th>author</th>\n",
              "    </tr>\n",
              "  </thead>\n",
              "  <tbody>\n",
              "    <tr>\n",
              "      <th>0</th>\n",
              "      <td>0195153448</td>\n",
              "      <td>Classical Mythology</td>\n",
              "      <td>Mark P. O. Morford</td>\n",
              "    </tr>\n",
              "    <tr>\n",
              "      <th>1</th>\n",
              "      <td>0002005018</td>\n",
              "      <td>Clara Callan</td>\n",
              "      <td>Richard Bruce Wright</td>\n",
              "    </tr>\n",
              "    <tr>\n",
              "      <th>2</th>\n",
              "      <td>0060973129</td>\n",
              "      <td>Decision in Normandy</td>\n",
              "      <td>Carlo D'Este</td>\n",
              "    </tr>\n",
              "    <tr>\n",
              "      <th>3</th>\n",
              "      <td>0374157065</td>\n",
              "      <td>Flu: The Story of the Great Influenza Pandemic...</td>\n",
              "      <td>Gina Bari Kolata</td>\n",
              "    </tr>\n",
              "    <tr>\n",
              "      <th>4</th>\n",
              "      <td>0393045218</td>\n",
              "      <td>The Mummies of Urumchi</td>\n",
              "      <td>E. J. W. Barber</td>\n",
              "    </tr>\n",
              "  </tbody>\n",
              "</table>\n",
              "</div>"
            ],
            "text/plain": [
              "         isbn  ...                author\n",
              "0  0195153448  ...    Mark P. O. Morford\n",
              "1  0002005018  ...  Richard Bruce Wright\n",
              "2  0060973129  ...          Carlo D'Este\n",
              "3  0374157065  ...      Gina Bari Kolata\n",
              "4  0393045218  ...       E. J. W. Barber\n",
              "\n",
              "[5 rows x 3 columns]"
            ]
          },
          "metadata": {
            "tags": []
          },
          "execution_count": 4
        }
      ]
    },
    {
      "cell_type": "code",
      "metadata": {
        "colab": {
          "base_uri": "https://localhost:8080/"
        },
        "id": "JNhLbX51cK7Q",
        "outputId": "8deb8667-a186-46dd-f549-ed3245165c89"
      },
      "source": [
        "df_books.info()\n",
        "print(df_books.isna().sum())\n",
        "# There is one null value for the author. No big issues as author is not one of the major variables"
      ],
      "execution_count": null,
      "outputs": [
        {
          "output_type": "stream",
          "text": [
            "<class 'pandas.core.frame.DataFrame'>\n",
            "RangeIndex: 271379 entries, 0 to 271378\n",
            "Data columns (total 3 columns):\n",
            " #   Column  Non-Null Count   Dtype \n",
            "---  ------  --------------   ----- \n",
            " 0   isbn    271379 non-null  object\n",
            " 1   title   271379 non-null  object\n",
            " 2   author  271378 non-null  object\n",
            "dtypes: object(3)\n",
            "memory usage: 6.2+ MB\n",
            "isbn      0\n",
            "title     0\n",
            "author    1\n",
            "dtype: int64\n"
          ],
          "name": "stdout"
        }
      ]
    },
    {
      "cell_type": "code",
      "metadata": {
        "colab": {
          "base_uri": "https://localhost:8080/",
          "height": 204
        },
        "id": "Qz8_1XRM60Po",
        "outputId": "7e8f3431-b107-4b9f-a0c3-f875283ab5c3"
      },
      "source": [
        "df_ratings.head()"
      ],
      "execution_count": null,
      "outputs": [
        {
          "output_type": "execute_result",
          "data": {
            "text/html": [
              "<div>\n",
              "<style scoped>\n",
              "    .dataframe tbody tr th:only-of-type {\n",
              "        vertical-align: middle;\n",
              "    }\n",
              "\n",
              "    .dataframe tbody tr th {\n",
              "        vertical-align: top;\n",
              "    }\n",
              "\n",
              "    .dataframe thead th {\n",
              "        text-align: right;\n",
              "    }\n",
              "</style>\n",
              "<table border=\"1\" class=\"dataframe\">\n",
              "  <thead>\n",
              "    <tr style=\"text-align: right;\">\n",
              "      <th></th>\n",
              "      <th>user</th>\n",
              "      <th>isbn</th>\n",
              "      <th>rating</th>\n",
              "    </tr>\n",
              "  </thead>\n",
              "  <tbody>\n",
              "    <tr>\n",
              "      <th>0</th>\n",
              "      <td>276725</td>\n",
              "      <td>034545104X</td>\n",
              "      <td>0.0</td>\n",
              "    </tr>\n",
              "    <tr>\n",
              "      <th>1</th>\n",
              "      <td>276726</td>\n",
              "      <td>0155061224</td>\n",
              "      <td>5.0</td>\n",
              "    </tr>\n",
              "    <tr>\n",
              "      <th>2</th>\n",
              "      <td>276727</td>\n",
              "      <td>0446520802</td>\n",
              "      <td>0.0</td>\n",
              "    </tr>\n",
              "    <tr>\n",
              "      <th>3</th>\n",
              "      <td>276729</td>\n",
              "      <td>052165615X</td>\n",
              "      <td>3.0</td>\n",
              "    </tr>\n",
              "    <tr>\n",
              "      <th>4</th>\n",
              "      <td>276729</td>\n",
              "      <td>0521795028</td>\n",
              "      <td>6.0</td>\n",
              "    </tr>\n",
              "  </tbody>\n",
              "</table>\n",
              "</div>"
            ],
            "text/plain": [
              "     user        isbn  rating\n",
              "0  276725  034545104X     0.0\n",
              "1  276726  0155061224     5.0\n",
              "2  276727  0446520802     0.0\n",
              "3  276729  052165615X     3.0\n",
              "4  276729  0521795028     6.0"
            ]
          },
          "metadata": {
            "tags": []
          },
          "execution_count": 6
        }
      ]
    },
    {
      "cell_type": "code",
      "metadata": {
        "colab": {
          "base_uri": "https://localhost:8080/"
        },
        "id": "q-J_c29o5yzQ",
        "outputId": "932f7891-c0a5-4f46-a271-fd19332d22ac"
      },
      "source": [
        "df_ratings.info()\n",
        "print(df_ratings.isna().sum())\n",
        "# No null values. Also isbn d-type is the same as in the df_books dataframe"
      ],
      "execution_count": null,
      "outputs": [
        {
          "output_type": "stream",
          "text": [
            "<class 'pandas.core.frame.DataFrame'>\n",
            "RangeIndex: 1149780 entries, 0 to 1149779\n",
            "Data columns (total 3 columns):\n",
            " #   Column  Non-Null Count    Dtype  \n",
            "---  ------  --------------    -----  \n",
            " 0   user    1149780 non-null  int32  \n",
            " 1   isbn    1149780 non-null  object \n",
            " 2   rating  1149780 non-null  float32\n",
            "dtypes: float32(1), int32(1), object(1)\n",
            "memory usage: 17.5+ MB\n",
            "user      0\n",
            "isbn      0\n",
            "rating    0\n",
            "dtype: int64\n"
          ],
          "name": "stdout"
        }
      ]
    },
    {
      "cell_type": "code",
      "metadata": {
        "colab": {
          "base_uri": "https://localhost:8080/",
          "height": 204
        },
        "id": "3b7X_Cti50g1",
        "outputId": "aed757c7-6271-486f-d2aa-8adc6f98daa3"
      },
      "source": [
        "df_total = df_books.merge(df_ratings, left_on='isbn', right_on='isbn')\n",
        "df_total.head()\n",
        "# Merger completed"
      ],
      "execution_count": null,
      "outputs": [
        {
          "output_type": "execute_result",
          "data": {
            "text/html": [
              "<div>\n",
              "<style scoped>\n",
              "    .dataframe tbody tr th:only-of-type {\n",
              "        vertical-align: middle;\n",
              "    }\n",
              "\n",
              "    .dataframe tbody tr th {\n",
              "        vertical-align: top;\n",
              "    }\n",
              "\n",
              "    .dataframe thead th {\n",
              "        text-align: right;\n",
              "    }\n",
              "</style>\n",
              "<table border=\"1\" class=\"dataframe\">\n",
              "  <thead>\n",
              "    <tr style=\"text-align: right;\">\n",
              "      <th></th>\n",
              "      <th>isbn</th>\n",
              "      <th>title</th>\n",
              "      <th>author</th>\n",
              "      <th>user</th>\n",
              "      <th>rating</th>\n",
              "    </tr>\n",
              "  </thead>\n",
              "  <tbody>\n",
              "    <tr>\n",
              "      <th>0</th>\n",
              "      <td>0195153448</td>\n",
              "      <td>Classical Mythology</td>\n",
              "      <td>Mark P. O. Morford</td>\n",
              "      <td>2</td>\n",
              "      <td>0.0</td>\n",
              "    </tr>\n",
              "    <tr>\n",
              "      <th>1</th>\n",
              "      <td>0002005018</td>\n",
              "      <td>Clara Callan</td>\n",
              "      <td>Richard Bruce Wright</td>\n",
              "      <td>8</td>\n",
              "      <td>5.0</td>\n",
              "    </tr>\n",
              "    <tr>\n",
              "      <th>2</th>\n",
              "      <td>0002005018</td>\n",
              "      <td>Clara Callan</td>\n",
              "      <td>Richard Bruce Wright</td>\n",
              "      <td>11400</td>\n",
              "      <td>0.0</td>\n",
              "    </tr>\n",
              "    <tr>\n",
              "      <th>3</th>\n",
              "      <td>0002005018</td>\n",
              "      <td>Clara Callan</td>\n",
              "      <td>Richard Bruce Wright</td>\n",
              "      <td>11676</td>\n",
              "      <td>8.0</td>\n",
              "    </tr>\n",
              "    <tr>\n",
              "      <th>4</th>\n",
              "      <td>0002005018</td>\n",
              "      <td>Clara Callan</td>\n",
              "      <td>Richard Bruce Wright</td>\n",
              "      <td>41385</td>\n",
              "      <td>0.0</td>\n",
              "    </tr>\n",
              "  </tbody>\n",
              "</table>\n",
              "</div>"
            ],
            "text/plain": [
              "         isbn                title                author   user  rating\n",
              "0  0195153448  Classical Mythology    Mark P. O. Morford      2     0.0\n",
              "1  0002005018         Clara Callan  Richard Bruce Wright      8     5.0\n",
              "2  0002005018         Clara Callan  Richard Bruce Wright  11400     0.0\n",
              "3  0002005018         Clara Callan  Richard Bruce Wright  11676     8.0\n",
              "4  0002005018         Clara Callan  Richard Bruce Wright  41385     0.0"
            ]
          },
          "metadata": {
            "tags": []
          },
          "execution_count": 108
        }
      ]
    },
    {
      "cell_type": "code",
      "metadata": {
        "colab": {
          "base_uri": "https://localhost:8080/"
        },
        "id": "5oWaNss050l_",
        "outputId": "46a8de4c-716c-41f8-831e-96b942838fc8"
      },
      "source": [
        "df_total.info()\n",
        "# We see that there total rows is now 1,031,175 vs the total rows in df_ratings of 1,149,780. This is likely because there were some isbn that were not present in both dataframes"
      ],
      "execution_count": null,
      "outputs": [
        {
          "output_type": "stream",
          "text": [
            "<class 'pandas.core.frame.DataFrame'>\n",
            "Int64Index: 1031175 entries, 0 to 1031174\n",
            "Data columns (total 5 columns):\n",
            " #   Column  Non-Null Count    Dtype  \n",
            "---  ------  --------------    -----  \n",
            " 0   isbn    1031175 non-null  object \n",
            " 1   title   1031175 non-null  object \n",
            " 2   author  1031174 non-null  object \n",
            " 3   user    1031175 non-null  int32  \n",
            " 4   rating  1031175 non-null  float32\n",
            "dtypes: float32(1), int32(1), object(3)\n",
            "memory usage: 39.3+ MB\n"
          ],
          "name": "stdout"
        }
      ]
    },
    {
      "cell_type": "code",
      "metadata": {
        "id": "zhkB3IhbaclW"
      },
      "source": [
        "# Calculate user and book rating counts (To filter one by one)\n",
        "\n",
        "# Use apply, applymap or map. All 3 methods work\n",
        "# df1 = df[df['A'].map(df['A'].value_counts()) > 1]\n",
        "# df1 = df[df.groupby(\"A\")['A'].transform('size') > 1]"
      ],
      "execution_count": null,
      "outputs": []
    },
    {
      "cell_type": "code",
      "metadata": {
        "colab": {
          "base_uri": "https://localhost:8080/",
          "height": 204
        },
        "id": "n9qSnGh35FZ5",
        "outputId": "a1b29405-9e36-435f-89ae-70e9202dc5e9"
      },
      "source": [
        "# Calculate user and book rating counts (And to filter both concurrently)\n",
        "\n",
        "# When you only use groupby([\"X1\", \"X2\"]), nothing happens to the dataframe. \n",
        "# However, when you specify a column to the groupby e.g. groupby([\"X1\", \"X2\"])[\"X3\", \"X4\"], you basically drop all columns and leave only \"X3\" and \"X4\". But that is not the right way to use groupby\n",
        "# When you specify a method to the groupby e.g. groupby([\"X1\", \"X2\"])[\"X3\", \"X4\"].value_counts(), you basically make \"X1\" and \"X2\" the new indexes, and the method is applied to \"X3\" and \"X4\". \n",
        "# End result is X1 and X2 are indexes and the variables are the values derived from applying the method to X3 and X4 (X3 and X4 will not be the variables)\n",
        "\n",
        "# For this case, we should use count because it simply adds up all the times a specific user appears. \n",
        "# For value_counts, it will aggregate only when both user and rating columns show the same value. Hence, it is not what we want since we are only looking for users who reviewed more than 200 books regardless of their ratings\n",
        "# You can use the below to confirm the value_counts() output\n",
        "\n",
        "user_RatingCount = df_total.groupby('user')['rating'].count().reset_index().rename(columns = {'rating':'userTotalRatingCount'})\n",
        "# user_RatingCount = df_total.groupby(['user'])['rating'].value_counts().rename(index = 'count').reset_index()\n",
        "\n",
        "book_RatingCount = df_total.groupby('isbn')['rating'].count().reset_index().rename(columns = {'rating':'bookTotalRatingCount'})\n",
        "user_RatingCount.head()\n",
        "book_RatingCount.head()"
      ],
      "execution_count": null,
      "outputs": [
        {
          "output_type": "execute_result",
          "data": {
            "text/html": [
              "<div>\n",
              "<style scoped>\n",
              "    .dataframe tbody tr th:only-of-type {\n",
              "        vertical-align: middle;\n",
              "    }\n",
              "\n",
              "    .dataframe tbody tr th {\n",
              "        vertical-align: top;\n",
              "    }\n",
              "\n",
              "    .dataframe thead th {\n",
              "        text-align: right;\n",
              "    }\n",
              "</style>\n",
              "<table border=\"1\" class=\"dataframe\">\n",
              "  <thead>\n",
              "    <tr style=\"text-align: right;\">\n",
              "      <th></th>\n",
              "      <th>isbn</th>\n",
              "      <th>bookTotalRatingCount</th>\n",
              "    </tr>\n",
              "  </thead>\n",
              "  <tbody>\n",
              "    <tr>\n",
              "      <th>0</th>\n",
              "      <td>0000913154</td>\n",
              "      <td>1</td>\n",
              "    </tr>\n",
              "    <tr>\n",
              "      <th>1</th>\n",
              "      <td>0001010565</td>\n",
              "      <td>2</td>\n",
              "    </tr>\n",
              "    <tr>\n",
              "      <th>2</th>\n",
              "      <td>0001046438</td>\n",
              "      <td>1</td>\n",
              "    </tr>\n",
              "    <tr>\n",
              "      <th>3</th>\n",
              "      <td>0001046713</td>\n",
              "      <td>1</td>\n",
              "    </tr>\n",
              "    <tr>\n",
              "      <th>4</th>\n",
              "      <td>000104687X</td>\n",
              "      <td>1</td>\n",
              "    </tr>\n",
              "  </tbody>\n",
              "</table>\n",
              "</div>"
            ],
            "text/plain": [
              "         isbn  bookTotalRatingCount\n",
              "0  0000913154                     1\n",
              "1  0001010565                     2\n",
              "2  0001046438                     1\n",
              "3  0001046713                     1\n",
              "4  000104687X                     1"
            ]
          },
          "metadata": {
            "tags": []
          },
          "execution_count": 109
        }
      ]
    },
    {
      "cell_type": "code",
      "metadata": {
        "id": "Za1f6Gon50oo",
        "colab": {
          "base_uri": "https://localhost:8080/",
          "height": 204
        },
        "outputId": "f6050f3e-3886-4f8b-f691-15a15875601b"
      },
      "source": [
        "# Next we merge back the columns \n",
        "\n",
        "df_total = df_total.merge(user_RatingCount, how = 'left', left_on='user', right_on='user') \n",
        "df_total = df_total.merge(book_RatingCount, how = 'left',  left_on='isbn', right_on='isbn')\n",
        "# Left means that we use df_total as the base dataframe and the Rating Count is mapped to df_total 'user' column. \n",
        "# The default 'inner' means that we only use the overlapping values between df_total and RatingCount. \n",
        "\n",
        "df_total.head()"
      ],
      "execution_count": null,
      "outputs": [
        {
          "output_type": "execute_result",
          "data": {
            "text/html": [
              "<div>\n",
              "<style scoped>\n",
              "    .dataframe tbody tr th:only-of-type {\n",
              "        vertical-align: middle;\n",
              "    }\n",
              "\n",
              "    .dataframe tbody tr th {\n",
              "        vertical-align: top;\n",
              "    }\n",
              "\n",
              "    .dataframe thead th {\n",
              "        text-align: right;\n",
              "    }\n",
              "</style>\n",
              "<table border=\"1\" class=\"dataframe\">\n",
              "  <thead>\n",
              "    <tr style=\"text-align: right;\">\n",
              "      <th></th>\n",
              "      <th>isbn</th>\n",
              "      <th>title</th>\n",
              "      <th>author</th>\n",
              "      <th>user</th>\n",
              "      <th>rating</th>\n",
              "      <th>userTotalRatingCount</th>\n",
              "      <th>bookTotalRatingCount</th>\n",
              "    </tr>\n",
              "  </thead>\n",
              "  <tbody>\n",
              "    <tr>\n",
              "      <th>0</th>\n",
              "      <td>0195153448</td>\n",
              "      <td>Classical Mythology</td>\n",
              "      <td>Mark P. O. Morford</td>\n",
              "      <td>2</td>\n",
              "      <td>0.0</td>\n",
              "      <td>1</td>\n",
              "      <td>1</td>\n",
              "    </tr>\n",
              "    <tr>\n",
              "      <th>1</th>\n",
              "      <td>0002005018</td>\n",
              "      <td>Clara Callan</td>\n",
              "      <td>Richard Bruce Wright</td>\n",
              "      <td>8</td>\n",
              "      <td>5.0</td>\n",
              "      <td>17</td>\n",
              "      <td>14</td>\n",
              "    </tr>\n",
              "    <tr>\n",
              "      <th>2</th>\n",
              "      <td>0002005018</td>\n",
              "      <td>Clara Callan</td>\n",
              "      <td>Richard Bruce Wright</td>\n",
              "      <td>11400</td>\n",
              "      <td>0.0</td>\n",
              "      <td>62</td>\n",
              "      <td>14</td>\n",
              "    </tr>\n",
              "    <tr>\n",
              "      <th>3</th>\n",
              "      <td>0002005018</td>\n",
              "      <td>Clara Callan</td>\n",
              "      <td>Richard Bruce Wright</td>\n",
              "      <td>11676</td>\n",
              "      <td>8.0</td>\n",
              "      <td>11144</td>\n",
              "      <td>14</td>\n",
              "    </tr>\n",
              "    <tr>\n",
              "      <th>4</th>\n",
              "      <td>0002005018</td>\n",
              "      <td>Clara Callan</td>\n",
              "      <td>Richard Bruce Wright</td>\n",
              "      <td>41385</td>\n",
              "      <td>0.0</td>\n",
              "      <td>10</td>\n",
              "      <td>14</td>\n",
              "    </tr>\n",
              "  </tbody>\n",
              "</table>\n",
              "</div>"
            ],
            "text/plain": [
              "         isbn                title  ... userTotalRatingCount  bookTotalRatingCount\n",
              "0  0195153448  Classical Mythology  ...                    1                     1\n",
              "1  0002005018         Clara Callan  ...                   17                    14\n",
              "2  0002005018         Clara Callan  ...                   62                    14\n",
              "3  0002005018         Clara Callan  ...                11144                    14\n",
              "4  0002005018         Clara Callan  ...                   10                    14\n",
              "\n",
              "[5 rows x 7 columns]"
            ]
          },
          "metadata": {
            "tags": []
          },
          "execution_count": 110
        }
      ]
    },
    {
      "cell_type": "code",
      "metadata": {
        "id": "bC-64B0AZWuP"
      },
      "source": [
        "# Now we can apply a concurrent filter to get only users with >200 reviews and books with >100 reviews\n",
        "\n",
        "df_total = df_total.loc[(df_total['userTotalRatingCount'] > 200) & (df_total['bookTotalRatingCount'] > 100)]"
      ],
      "execution_count": null,
      "outputs": []
    },
    {
      "cell_type": "code",
      "metadata": {
        "id": "-WChFQhDKwAU",
        "colab": {
          "base_uri": "https://localhost:8080/"
        },
        "outputId": "3ce09f25-5ec0-4eeb-c44e-6f6bd72ac84f"
      },
      "source": [
        "# Now we will design the matrix required to train our model\n",
        "# We will just use the user-title system where our variables are specific users and their own ratings to the books they have picked  \n",
        "# KNN model uses a csr matrix for input, so we need to prepare our csr matrix using the following steps\n",
        "# CSR stands for compressed sparse row (CSR) or compressed row storage (CRS). A matrix M by three (one-dimensional) arrays, that respectively contain nonzero values, the extents of rows, and column indices.\n",
        "# Steps include 1) Drop duplicates 2) Pivot the array from long to wide 3) Convert wide matrix into csr matrix\n",
        "\n",
        "df_total_new = df_total.drop_duplicates(['user', 'title']) # Specifying 2 variables here means both variables must have the same value in order to trigger the drop in duplicates\n",
        "# First we need to drop the duplicates as duplicates prevent the pivoting of the matrix.  Each user-title must have its own unique value for the conversion to work\n",
        "# The default of drop duplicates is to assume the first as the unique value and subsequent ones as duplicates. You can change that to last or False depending on your dataset\n",
        "\n",
        "df_total_pivot = df_total_new.pivot(index = 'title', columns = 'user', values = 'rating').fillna(0) \n",
        "# Pivot it from long dataframe to wide dataframe, with all the columns being each user and the rows being each book\n",
        "# Note that there will be a lot of null values simply because one user does not read every book, so you have to fill those null values. In this case, a 0 suffices as it just means no rating\n",
        "\n",
        "df_total_matrix = csr_matrix(df_total_pivot.values)\n",
        "# CSR matrix is created. You can see on the left is the row and col values for each individual cell, and on the right is the data found within that cell\n",
        "print(df_total_matrix)"
      ],
      "execution_count": null,
      "outputs": [
        {
          "output_type": "stream",
          "text": [
            "  (0, 0)\t9.0\n",
            "  (0, 34)\t9.0\n",
            "  (0, 38)\t8.0\n",
            "  (0, 55)\t7.0\n",
            "  (0, 124)\t9.0\n",
            "  (0, 142)\t10.0\n",
            "  (0, 154)\t9.0\n",
            "  (0, 171)\t8.0\n",
            "  (0, 202)\t10.0\n",
            "  (0, 203)\t10.0\n",
            "  (0, 225)\t10.0\n",
            "  (0, 252)\t10.0\n",
            "  (0, 353)\t10.0\n",
            "  (0, 452)\t9.0\n",
            "  (0, 494)\t10.0\n",
            "  (0, 538)\t9.0\n",
            "  (0, 627)\t9.0\n",
            "  (0, 692)\t8.0\n",
            "  (0, 699)\t7.0\n",
            "  (0, 797)\t10.0\n",
            "  (1, 9)\t9.0\n",
            "  (1, 23)\t10.0\n",
            "  (1, 38)\t9.0\n",
            "  (1, 43)\t10.0\n",
            "  (1, 74)\t8.0\n",
            "  :\t:\n",
            "  (662, 212)\t8.0\n",
            "  (662, 247)\t6.0\n",
            "  (662, 298)\t9.0\n",
            "  (662, 391)\t9.0\n",
            "  (662, 425)\t10.0\n",
            "  (662, 582)\t8.0\n",
            "  (662, 595)\t7.0\n",
            "  (662, 678)\t7.0\n",
            "  (662, 690)\t9.0\n",
            "  (663, 14)\t8.0\n",
            "  (663, 23)\t7.0\n",
            "  (663, 103)\t5.0\n",
            "  (663, 136)\t6.0\n",
            "  (663, 213)\t7.0\n",
            "  (663, 264)\t8.0\n",
            "  (663, 275)\t9.0\n",
            "  (663, 293)\t10.0\n",
            "  (663, 333)\t10.0\n",
            "  (663, 348)\t9.0\n",
            "  (663, 444)\t10.0\n",
            "  (663, 450)\t8.0\n",
            "  (663, 527)\t8.0\n",
            "  (663, 645)\t8.0\n",
            "  (663, 757)\t9.0\n",
            "  (663, 801)\t8.0\n"
          ],
          "name": "stdout"
        }
      ]
    },
    {
      "cell_type": "code",
      "metadata": {
        "id": "QPNODGpWXQX6",
        "colab": {
          "base_uri": "https://localhost:8080/"
        },
        "outputId": "06ba989d-2235-4691-9b20-b3b4163fe413"
      },
      "source": [
        "model = NearestNeighbors(algorithm='brute', metric='cosine') # You can see the distancemetric website on SKlearn for the full list. In this case, we shall just go with cosine, which will give distances between -1 and 1\n",
        "model.fit(df_total_matrix)"
      ],
      "execution_count": null,
      "outputs": [
        {
          "output_type": "execute_result",
          "data": {
            "text/plain": [
              "NearestNeighbors(algorithm='brute', leaf_size=30, metric='cosine',\n",
              "                 metric_params=None, n_jobs=None, n_neighbors=5, p=2,\n",
              "                 radius=1.0)"
            ]
          },
          "metadata": {
            "tags": []
          },
          "execution_count": 113
        }
      ]
    },
    {
      "cell_type": "code",
      "metadata": {
        "id": "f5ZUd-L1SQz7"
      },
      "source": [
        "# function to return recommended books - this will be tested\n",
        "def get_recommends(book = \"\"):\n",
        "  \n",
        "  # First get the index of the book from the pivoted table\n",
        "  # Another method is\n",
        "  # X = books_with_ratings_pivot[books_with_ratings_pivot.index == book]\n",
        "  # X = X.to_numpy().reshape(1,-1)\n",
        "  # distances, indices = model_knn.kneighbors(X,n_neighbors=5)\n",
        "  for query_index in range(len(df_total_pivot.index)):\n",
        "    if df_total_pivot.index[query_index] == book:\n",
        "      break\n",
        "  \n",
        "  # Next run the prediction model\n",
        "  # For the model input, you just need to input the row values for that queried book, which is indicated by the  \n",
        "  distances, indices = model.kneighbors(df_total_pivot.iloc[query_index, :].values.reshape(1,-1), n_neighbors = 6)\n",
        "   \n",
        "  recommended_books = [book, [ [],[],[],[],[] ] ]\n",
        "\n",
        "  for i in range(1, len(distances.flatten())):\n",
        "    recommended_books[1][i-1].append(df_total_pivot.index[indices.flatten()[len(distances.flatten()) - i]]) # The indices return in the form of [[X,Y,Z]], so you have to flatten it first and then use position i to single out the index to be used \n",
        "    recommended_books[1][i-1].append(distances.flatten()[len(distances.flatten()) - i]) # Similarly, distances return in the form of [[X,Y,Z]], so have to flatten it out first\n",
        "\n",
        "  return recommended_books"
      ],
      "execution_count": null,
      "outputs": []
    },
    {
      "cell_type": "markdown",
      "metadata": {
        "id": "eat9A2TKawHU"
      },
      "source": [
        "Use the cell below to test your function. The `test_book_recommendation()` function will inform you if you passed the challenge or need to keep trying."
      ]
    },
    {
      "cell_type": "code",
      "metadata": {
        "id": "jd2SLCh8oxMh",
        "colab": {
          "base_uri": "https://localhost:8080/"
        },
        "outputId": "ed800fed-dca7-4eb1-9d6d-5bcf7d7fe9e6"
      },
      "source": [
        "books = get_recommends(\"Where the Heart Is (Oprah's Book Club (Paperback))\")\n",
        "print(books)\n",
        "\n",
        "def test_book_recommendation():\n",
        "  test_pass = True\n",
        "  recommends = get_recommends(\"Where the Heart Is (Oprah's Book Club (Paperback))\")\n",
        "  if recommends[0] != \"Where the Heart Is (Oprah's Book Club (Paperback))\":\n",
        "    test_pass = False\n",
        "  recommended_books = [\"I'll Be Seeing You\", 'The Weight of Water', 'The Surgeon', 'I Know This Much Is True']\n",
        "  recommended_books_dist = [0.8, 0.77, 0.77, 0.77]\n",
        "  for i in range(2): \n",
        "    if recommends[1][i][0] not in recommended_books:\n",
        "      test_pass = False\n",
        "    if abs(recommends[1][i][1] - recommended_books_dist[i]) >= 0.05:\n",
        "      test_pass = False\n",
        "  if test_pass:\n",
        "    print(\"You passed the challenge! 🎉🎉🎉🎉🎉\")\n",
        "  else:\n",
        "    print(\"You haven't passed yet. Keep trying!\")\n",
        "\n",
        "test_book_recommendation()"
      ],
      "execution_count": null,
      "outputs": [
        {
          "output_type": "stream",
          "text": [
            "[\"Where the Heart Is (Oprah's Book Club (Paperback))\", [['Icy Sparks', 0.7932764], ['Tis: A Memoir', 0.78800046], ['The Weight of Water', 0.76140916], ['I Know This Much Is True', 0.7581284], ['The Lovely Bones: A Novel', 0.72582525]]]\n",
            "You haven't passed yet. Keep trying!\n"
          ],
          "name": "stdout"
        }
      ]
    },
    {
      "cell_type": "code",
      "metadata": {
        "id": "TkY4wQrYUKWJ"
      },
      "source": [
        ""
      ],
      "execution_count": null,
      "outputs": []
    }
  ]
}