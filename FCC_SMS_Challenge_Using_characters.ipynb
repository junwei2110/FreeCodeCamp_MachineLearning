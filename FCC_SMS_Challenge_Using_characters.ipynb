{
  "nbformat": 4,
  "nbformat_minor": 0,
  "metadata": {
    "colab": {
      "name": "FCC_SMS Challenge - Using characters.ipynb",
      "provenance": [],
      "include_colab_link": true
    },
    "kernelspec": {
      "name": "python3",
      "display_name": "Python 3"
    },
    "language_info": {
      "name": "python"
    },
    "accelerator": "GPU"
  },
  "cells": [
    {
      "cell_type": "markdown",
      "metadata": {
        "id": "view-in-github",
        "colab_type": "text"
      },
      "source": [
        "<a href=\"https://colab.research.google.com/github/junwei2110/FreeCodeCamp_MachineLearning/blob/SMS-text-classifier/FCC_SMS_Challenge_Using_characters.ipynb\" target=\"_parent\"><img src=\"https://colab.research.google.com/assets/colab-badge.svg\" alt=\"Open In Colab\"/></a>"
      ]
    },
    {
      "cell_type": "code",
      "metadata": {
        "id": "W1fIvW7XBdIk"
      },
      "source": [
        "import keras\n",
        "import tensorflow as tf\n",
        "from tensorflow import keras\n",
        "import pandas as pd\n",
        "from keras.preprocessing import sequence\n",
        "import tensorflow_datasets as tfds\n",
        "import numpy as np\n",
        "import matplotlib.pyplot as plt"
      ],
      "execution_count": null,
      "outputs": []
    },
    {
      "cell_type": "code",
      "metadata": {
        "colab": {
          "base_uri": "https://localhost:8080/"
        },
        "id": "C4PsADhJBeRh",
        "outputId": "d0f280be-03e9-4c2e-c448-7bce13ce1323"
      },
      "source": [
        "# get data files\n",
        "!wget https://cdn.freecodecamp.org/project-data/sms/train-data.tsv\n",
        "!wget https://cdn.freecodecamp.org/project-data/sms/valid-data.tsv\n",
        "\n",
        "train_file_path = \"train-data.tsv\"\n",
        "test_file_path = \"valid-data.tsv\""
      ],
      "execution_count": null,
      "outputs": [
        {
          "output_type": "stream",
          "text": [
            "--2021-07-10 10:50:58--  https://cdn.freecodecamp.org/project-data/sms/train-data.tsv\n",
            "Resolving cdn.freecodecamp.org (cdn.freecodecamp.org)... 172.67.70.149, 104.26.2.33, 104.26.3.33, ...\n",
            "Connecting to cdn.freecodecamp.org (cdn.freecodecamp.org)|172.67.70.149|:443... connected.\n",
            "HTTP request sent, awaiting response... 200 OK\n",
            "Length: 358233 (350K) [text/tab-separated-values]\n",
            "Saving to: ‘train-data.tsv’\n",
            "\n",
            "\rtrain-data.tsv        0%[                    ]       0  --.-KB/s               \rtrain-data.tsv      100%[===================>] 349.84K  --.-KB/s    in 0.005s  \n",
            "\n",
            "2021-07-10 10:50:58 (65.4 MB/s) - ‘train-data.tsv’ saved [358233/358233]\n",
            "\n",
            "--2021-07-10 10:50:58--  https://cdn.freecodecamp.org/project-data/sms/valid-data.tsv\n",
            "Resolving cdn.freecodecamp.org (cdn.freecodecamp.org)... 172.67.70.149, 104.26.2.33, 104.26.3.33, ...\n",
            "Connecting to cdn.freecodecamp.org (cdn.freecodecamp.org)|172.67.70.149|:443... connected.\n",
            "HTTP request sent, awaiting response... 200 OK\n",
            "Length: 118774 (116K) [text/tab-separated-values]\n",
            "Saving to: ‘valid-data.tsv’\n",
            "\n",
            "valid-data.tsv      100%[===================>] 115.99K  --.-KB/s    in 0.003s  \n",
            "\n",
            "2021-07-10 10:50:58 (42.5 MB/s) - ‘valid-data.tsv’ saved [118774/118774]\n",
            "\n"
          ],
          "name": "stdout"
        }
      ]
    },
    {
      "cell_type": "code",
      "metadata": {
        "colab": {
          "base_uri": "https://localhost:8080/"
        },
        "id": "H10dEYN1CKRY",
        "outputId": "e857412c-4486-490e-83ad-d7f41622dfe6"
      },
      "source": [
        "# Read the data\n",
        "training_raw = open(train_file_path, 'rb').read().decode(encoding='utf-8')\n",
        "testing_raw = open(test_file_path, 'rb').read().decode(encoding='utf-8') \n",
        "print(training_raw[:250])"
      ],
      "execution_count": null,
      "outputs": [
        {
          "output_type": "stream",
          "text": [
            "ham\tahhhh...just woken up!had a bad dream about u tho,so i dont like u right now :) i didnt know anything about comedy night but i guess im up for it.\n",
            "ham\tyou can never do nothing\n",
            "ham\tnow u sound like manky scouse boy steve,like! i is travelling on d\n"
          ],
          "name": "stdout"
        }
      ]
    },
    {
      "cell_type": "code",
      "metadata": {
        "id": "n7nUCO99CNMo"
      },
      "source": [
        "# Create a list with the labels and the corresponding text\n",
        "import re\n",
        "\n",
        "training_text = re.split('[\\t\\n]', training_raw)\n",
        "testing_text = re.split('[\\t\\n]', testing_raw)"
      ],
      "execution_count": null,
      "outputs": []
    },
    {
      "cell_type": "code",
      "metadata": {
        "id": "ZrOP6kw0CRlo"
      },
      "source": [
        "# Split into the text and the labels\n",
        "\n",
        "training_text_data = []\n",
        "training_text_label = []\n",
        "testing_text_data = []\n",
        "testing_text_label = []\n",
        "\n",
        "for i in range(len(training_text)):\n",
        "  if (i%2 == 0):\n",
        "    training_text_label.append(training_text[i])\n",
        "  else:\n",
        "    training_text_data.append(training_text[i])\n",
        "\n",
        "for j in range(len(testing_text)):\n",
        "  if (j%2 == 0):\n",
        "    testing_text_label.append(testing_text[j])\n",
        "  else:\n",
        "    testing_text_data.append(testing_text[j])"
      ],
      "execution_count": null,
      "outputs": []
    },
    {
      "cell_type": "code",
      "metadata": {
        "id": "2bKcdvz9CTgg"
      },
      "source": [
        "# Check the len of the text and labels\n",
        "\n",
        "if len(training_text_data) < len(training_text_label):\n",
        "  training_text_label.pop(-1)\n",
        "elif len(training_text_data) > len(training_text_label):\n",
        "  training_text_data.pop(-1)\n",
        "\n",
        "if len(testing_text_data) < len(testing_text_label):\n",
        "  testing_text_label.pop(-1)\n",
        "elif len(testing_text_data) > len(testing_text_label):\n",
        "  testing_text_data.pop(-1)"
      ],
      "execution_count": null,
      "outputs": []
    },
    {
      "cell_type": "code",
      "metadata": {
        "id": "DpVnqgIKCVxQ",
        "colab": {
          "base_uri": "https://localhost:8080/"
        },
        "outputId": "d2617237-a0be-43fb-b5fa-45a84532795b"
      },
      "source": [
        "# Our next objective is to create dictionary of character-num pairs. We need to convert the characters into numbers to fit into the model, and decode the numbers back into characters for interpretation\n",
        "# Reason why words are not chosen is because words are not exhaustive, and in this case, there may be a lot of new words in the testing set that does not appear in the training data\n",
        "\n",
        "# We make the raw training data into a set to iron out all the unique characters and then sort them back into a list\n",
        "char_unique = sorted(set(training_raw))\n",
        "\n",
        "# Now we create the dictionary using the awesome enumerate method which converts the characters here into tupples paired with the index of the characters\n",
        "char2idx = {u:i for i,u in enumerate(char_unique)}\n",
        "\n",
        "print(char2idx)"
      ],
      "execution_count": null,
      "outputs": [
        {
          "output_type": "stream",
          "text": [
            "{'\\t': 0, '\\n': 1, ' ': 2, '!': 3, '#': 4, '$': 5, '%': 6, '&': 7, \"'\": 8, '(': 9, ')': 10, '*': 11, '+': 12, ',': 13, '-': 14, '.': 15, '/': 16, '0': 17, '1': 18, '2': 19, '3': 20, '4': 21, '5': 22, '6': 23, '7': 24, '8': 25, '9': 26, ':': 27, ';': 28, '<': 29, '=': 30, '>': 31, '?': 32, '@': 33, '[': 34, '\\\\': 35, ']': 36, '^': 37, '_': 38, 'a': 39, 'b': 40, 'c': 41, 'd': 42, 'e': 43, 'f': 44, 'g': 45, 'h': 46, 'i': 47, 'j': 48, 'k': 49, 'l': 50, 'm': 51, 'n': 52, 'o': 53, 'p': 54, 'q': 55, 'r': 56, 's': 57, 't': 58, 'u': 59, 'v': 60, 'w': 61, 'x': 62, 'y': 63, 'z': 64, '|': 65, '~': 66, '\\x91': 67, '\\x92': 68, '\\x93': 69, '\\x96': 70, '£': 71, '»': 72, 'è': 73, 'ú': 74, 'ü': 75, '–': 76, '‘': 77, '’': 78, '“': 79, '…': 80}\n"
          ],
          "name": "stdout"
        }
      ]
    },
    {
      "cell_type": "code",
      "metadata": {
        "colab": {
          "base_uri": "https://localhost:8080/"
        },
        "id": "sH9muqYoX3Aa",
        "outputId": "49ab8495-f088-43cf-a6a6-5de9937a6fb9"
      },
      "source": [
        "# We check what is the longest character length for the training data\n",
        "\n",
        "maxlen = 0\n",
        "for i in range(len(training_text_data)):\n",
        "  if maxlen <= len(training_text_data[i]):\n",
        "    maxlen = len(training_text_data[i])\n",
        "\n",
        "maxlen"
      ],
      "execution_count": null,
      "outputs": [
        {
          "output_type": "execute_result",
          "data": {
            "text/plain": [
              "910"
            ]
          },
          "metadata": {
            "tags": []
          },
          "execution_count": 8
        }
      ]
    },
    {
      "cell_type": "code",
      "metadata": {
        "id": "4xKzRBqWCabR"
      },
      "source": [
        "# Now we create the encoder to convert text to int:\n",
        "\n",
        "def text_to_int(text):\n",
        "  list_of_int = []\n",
        "  for c in text:\n",
        "    if c in char2idx:\n",
        "      list_of_int.append(char2idx[c])      \n",
        "    else:\n",
        "      list_of_int.append(0)\n",
        "\n",
        "  list_of_int = np.array(list_of_int)  \n",
        "  # Now we need to stretch the length to ensure that all the strings evaluated are of same character length\n",
        "  return sequence.pad_sequences([list_of_int], maxlen)[0] \n",
        "\n",
        "\n",
        "# We also create the decoder to convert int back to text:\n",
        "idx2char = np.array(char_unique)\n",
        "\n",
        "def int_to_text(ints):\n",
        "  return \"\".join(idx2char[ints])"
      ],
      "execution_count": null,
      "outputs": []
    },
    {
      "cell_type": "code",
      "metadata": {
        "colab": {
          "base_uri": "https://localhost:8080/"
        },
        "id": "O6P32s-WG1pS",
        "outputId": "6b6d1ed6-27a4-4d4b-cac1-2a950c430e1b"
      },
      "source": [
        "# To test the above\n",
        "\n",
        "print(training_raw[:20])\n",
        "text_as_int = text_to_int(training_raw[:20])\n",
        "print(text_as_int)\n",
        "print(int_to_text(text_as_int))"
      ],
      "execution_count": null,
      "outputs": [
        {
          "output_type": "stream",
          "text": [
            "ham\tahhhh...just wok\n",
            "[ 0  0  0  0  0  0  0  0  0  0  0  0  0  0  0  0  0  0  0  0  0  0  0  0\n",
            "  0  0  0  0  0  0  0  0  0  0  0  0  0  0  0  0  0  0  0  0  0  0  0  0\n",
            "  0  0  0  0  0  0  0  0  0  0  0  0  0  0  0  0  0  0  0  0  0  0  0  0\n",
            "  0  0  0  0  0  0  0  0  0  0  0  0  0  0  0  0  0  0  0  0  0  0  0  0\n",
            "  0  0  0  0  0  0  0  0  0  0  0  0  0  0  0  0  0  0  0  0  0  0  0  0\n",
            "  0  0  0  0  0  0  0  0  0  0  0  0  0  0  0  0  0  0  0  0  0  0  0  0\n",
            "  0  0  0  0  0  0  0  0  0  0  0  0  0  0  0  0  0  0  0  0  0  0  0  0\n",
            "  0  0  0  0  0  0  0  0  0  0  0  0  0  0  0  0  0  0  0  0  0  0  0  0\n",
            "  0  0  0  0  0  0  0  0  0  0  0  0  0  0  0  0  0  0  0  0  0  0  0  0\n",
            "  0  0  0  0  0  0  0  0  0  0  0  0  0  0  0  0  0  0  0  0  0  0  0  0\n",
            "  0  0  0  0  0  0  0  0  0  0  0  0  0  0  0  0  0  0  0  0  0  0  0  0\n",
            "  0  0  0  0  0  0  0  0  0  0  0  0  0  0  0  0  0  0  0  0  0  0  0  0\n",
            "  0  0  0  0  0  0  0  0  0  0  0  0  0  0  0  0  0  0  0  0  0  0  0  0\n",
            "  0  0  0  0  0  0  0  0  0  0  0  0  0  0  0  0  0  0  0  0  0  0  0  0\n",
            "  0  0  0  0  0  0  0  0  0  0  0  0  0  0  0  0  0  0  0  0  0  0  0  0\n",
            "  0  0  0  0  0  0  0  0  0  0  0  0  0  0  0  0  0  0  0  0  0  0  0  0\n",
            "  0  0  0  0  0  0  0  0  0  0  0  0  0  0  0  0  0  0  0  0  0  0  0  0\n",
            "  0  0  0  0  0  0  0  0  0  0  0  0  0  0  0  0  0  0  0  0  0  0  0  0\n",
            "  0  0  0  0  0  0  0  0  0  0  0  0  0  0  0  0  0  0  0  0  0  0  0  0\n",
            "  0  0  0  0  0  0  0  0  0  0  0  0  0  0  0  0  0  0  0  0  0  0  0  0\n",
            "  0  0  0  0  0  0  0  0  0  0  0  0  0  0  0  0  0  0  0  0  0  0  0  0\n",
            "  0  0  0  0  0  0  0  0  0  0  0  0  0  0  0  0  0  0  0  0  0  0  0  0\n",
            "  0  0  0  0  0  0  0  0  0  0  0  0  0  0  0  0  0  0  0  0  0  0  0  0\n",
            "  0  0  0  0  0  0  0  0  0  0  0  0  0  0  0  0  0  0  0  0  0  0  0  0\n",
            "  0  0  0  0  0  0  0  0  0  0  0  0  0  0  0  0  0  0  0  0  0  0  0  0\n",
            "  0  0  0  0  0  0  0  0  0  0  0  0  0  0  0  0  0  0  0  0  0  0  0  0\n",
            "  0  0  0  0  0  0  0  0  0  0  0  0  0  0  0  0  0  0  0  0  0  0  0  0\n",
            "  0  0  0  0  0  0  0  0  0  0  0  0  0  0  0  0  0  0  0  0  0  0  0  0\n",
            "  0  0  0  0  0  0  0  0  0  0  0  0  0  0  0  0  0  0  0  0  0  0  0  0\n",
            "  0  0  0  0  0  0  0  0  0  0  0  0  0  0  0  0  0  0  0  0  0  0  0  0\n",
            "  0  0  0  0  0  0  0  0  0  0  0  0  0  0  0  0  0  0  0  0  0  0  0  0\n",
            "  0  0  0  0  0  0  0  0  0  0  0  0  0  0  0  0  0  0  0  0  0  0  0  0\n",
            "  0  0  0  0  0  0  0  0  0  0  0  0  0  0  0  0  0  0  0  0  0  0  0  0\n",
            "  0  0  0  0  0  0  0  0  0  0  0  0  0  0  0  0  0  0  0  0  0  0  0  0\n",
            "  0  0  0  0  0  0  0  0  0  0  0  0  0  0  0  0  0  0  0  0  0  0  0  0\n",
            "  0  0  0  0  0  0  0  0  0  0  0  0  0  0  0  0  0  0  0  0  0  0  0  0\n",
            "  0  0  0  0  0  0  0  0  0  0  0  0  0  0  0  0  0  0  0  0  0  0  0  0\n",
            "  0  0 46 39 51  0 39 46 46 46 46 15 15 15 48 59 57 58  2 61 53 49]\n",
            "\t\t\t\t\t\t\t\t\t\t\t\t\t\t\t\t\t\t\t\t\t\t\t\t\t\t\t\t\t\t\t\t\t\t\t\t\t\t\t\t\t\t\t\t\t\t\t\t\t\t\t\t\t\t\t\t\t\t\t\t\t\t\t\t\t\t\t\t\t\t\t\t\t\t\t\t\t\t\t\t\t\t\t\t\t\t\t\t\t\t\t\t\t\t\t\t\t\t\t\t\t\t\t\t\t\t\t\t\t\t\t\t\t\t\t\t\t\t\t\t\t\t\t\t\t\t\t\t\t\t\t\t\t\t\t\t\t\t\t\t\t\t\t\t\t\t\t\t\t\t\t\t\t\t\t\t\t\t\t\t\t\t\t\t\t\t\t\t\t\t\t\t\t\t\t\t\t\t\t\t\t\t\t\t\t\t\t\t\t\t\t\t\t\t\t\t\t\t\t\t\t\t\t\t\t\t\t\t\t\t\t\t\t\t\t\t\t\t\t\t\t\t\t\t\t\t\t\t\t\t\t\t\t\t\t\t\t\t\t\t\t\t\t\t\t\t\t\t\t\t\t\t\t\t\t\t\t\t\t\t\t\t\t\t\t\t\t\t\t\t\t\t\t\t\t\t\t\t\t\t\t\t\t\t\t\t\t\t\t\t\t\t\t\t\t\t\t\t\t\t\t\t\t\t\t\t\t\t\t\t\t\t\t\t\t\t\t\t\t\t\t\t\t\t\t\t\t\t\t\t\t\t\t\t\t\t\t\t\t\t\t\t\t\t\t\t\t\t\t\t\t\t\t\t\t\t\t\t\t\t\t\t\t\t\t\t\t\t\t\t\t\t\t\t\t\t\t\t\t\t\t\t\t\t\t\t\t\t\t\t\t\t\t\t\t\t\t\t\t\t\t\t\t\t\t\t\t\t\t\t\t\t\t\t\t\t\t\t\t\t\t\t\t\t\t\t\t\t\t\t\t\t\t\t\t\t\t\t\t\t\t\t\t\t\t\t\t\t\t\t\t\t\t\t\t\t\t\t\t\t\t\t\t\t\t\t\t\t\t\t\t\t\t\t\t\t\t\t\t\t\t\t\t\t\t\t\t\t\t\t\t\t\t\t\t\t\t\t\t\t\t\t\t\t\t\t\t\t\t\t\t\t\t\t\t\t\t\t\t\t\t\t\t\t\t\t\t\t\t\t\t\t\t\t\t\t\t\t\t\t\t\t\t\t\t\t\t\t\t\t\t\t\t\t\t\t\t\t\t\t\t\t\t\t\t\t\t\t\t\t\t\t\t\t\t\t\t\t\t\t\t\t\t\t\t\t\t\t\t\t\t\t\t\t\t\t\t\t\t\t\t\t\t\t\t\t\t\t\t\t\t\t\t\t\t\t\t\t\t\t\t\t\t\t\t\t\t\t\t\t\t\t\t\t\t\t\t\t\t\t\t\t\t\t\t\t\t\t\t\t\t\t\t\t\t\t\t\t\t\t\t\t\t\t\t\t\t\t\t\t\t\t\t\t\t\t\t\t\t\t\t\t\t\t\t\t\t\t\t\t\t\t\t\t\t\t\t\t\t\t\t\t\t\t\t\t\t\t\t\t\t\t\t\t\t\t\t\t\t\t\t\t\t\t\t\t\t\t\t\t\t\t\t\t\t\t\t\t\t\t\t\t\t\t\t\t\t\t\t\t\t\t\t\t\t\t\t\t\t\t\t\t\t\t\t\t\t\t\t\t\t\t\t\t\t\t\t\t\t\t\t\t\t\t\t\t\t\t\t\t\t\t\t\t\t\t\t\t\t\t\t\t\t\t\t\t\t\t\t\t\t\t\t\t\t\t\t\t\t\t\t\t\t\t\t\t\t\t\t\t\t\t\t\t\t\t\t\t\t\t\t\t\t\t\t\t\t\t\t\t\t\t\t\t\t\t\t\t\t\t\t\t\t\t\t\t\t\t\t\t\t\t\t\t\t\t\t\t\t\t\t\t\t\t\t\t\t\t\t\tham\tahhhh...just wok\n"
          ],
          "name": "stdout"
        }
      ]
    },
    {
      "cell_type": "code",
      "metadata": {
        "id": "o1lZNqDSJWGQ"
      },
      "source": [
        "# The next step will be to convert the training_text_data and testing_text_data into integer form\n",
        "\n",
        "for i in range(len(training_text_data)):\n",
        "  training_text_data[i] = text_to_int(training_text_data[i])\n",
        "\n",
        "for j in range(len(testing_text_data)):\n",
        "  testing_text_data[j] = text_to_int(testing_text_data[j])\n"
      ],
      "execution_count": null,
      "outputs": []
    },
    {
      "cell_type": "code",
      "metadata": {
        "id": "O_AfBYMhMeOq"
      },
      "source": [
        "# Next we convert the labels into integer form as well\n",
        "\n",
        "labels_dict = {\"ham\" : 0, \"spam\": 1}\n",
        "labels_decoder = {0: \"ham\", 1: \"spam\"}\n",
        "\n",
        "def label_to_int(label):\n",
        "  return labels_dict[label]\n",
        "\n",
        "def int_to_label(ints):\n",
        "  return \"\".join(labels_decoder[ints])\n",
        "\n",
        "for i in range(len(training_text_label)):\n",
        "  training_text_label[i] = label_to_int(training_text_label[i])\n",
        "\n",
        "for j in range(len(testing_text_label)):\n",
        "  testing_text_label[j] = label_to_int(testing_text_label[j])"
      ],
      "execution_count": null,
      "outputs": []
    },
    {
      "cell_type": "code",
      "metadata": {
        "colab": {
          "base_uri": "https://localhost:8080/"
        },
        "id": "kzWmvZj5OfIC",
        "outputId": "4d59f33a-7939-472b-a498-75fc98f8dee8"
      },
      "source": [
        "# Finally time to create the model\n",
        "model = tf.keras.Sequential([\n",
        "    tf.keras.layers.Embedding(len(char_unique),256),\n",
        "    tf.keras.layers.LSTM(32),\n",
        "    tf.keras.layers.Dense(1, activation = 'sigmoid')    #Sigmoid ensures output is between 0 and 1\n",
        "])\n",
        "\n",
        "model.summary()"
      ],
      "execution_count": null,
      "outputs": [
        {
          "output_type": "stream",
          "text": [
            "Model: \"sequential\"\n",
            "_________________________________________________________________\n",
            "Layer (type)                 Output Shape              Param #   \n",
            "=================================================================\n",
            "embedding (Embedding)        (None, None, 256)         20736     \n",
            "_________________________________________________________________\n",
            "lstm (LSTM)                  (None, 32)                36992     \n",
            "_________________________________________________________________\n",
            "dense (Dense)                (None, 1)                 33        \n",
            "=================================================================\n",
            "Total params: 57,761\n",
            "Trainable params: 57,761\n",
            "Non-trainable params: 0\n",
            "_________________________________________________________________\n"
          ],
          "name": "stdout"
        }
      ]
    },
    {
      "cell_type": "code",
      "metadata": {
        "colab": {
          "base_uri": "https://localhost:8080/"
        },
        "id": "vaQhuXvfPJqb",
        "outputId": "a2093301-08a4-4724-a97c-5940961848b8"
      },
      "source": [
        "model.compile(loss = 'binary_crossentropy', optimizer = 'rmsprop', metrics = ['acc'])\n",
        "\n",
        "history = model.fit(np.array(training_text_data), np.array(training_text_label), epochs = 5)"
      ],
      "execution_count": null,
      "outputs": [
        {
          "output_type": "stream",
          "text": [
            "Epoch 1/5\n",
            "131/131 [==============================] - 7s 38ms/step - loss: 0.0356 - acc: 0.9904\n",
            "Epoch 2/5\n",
            "131/131 [==============================] - 5s 38ms/step - loss: 0.0328 - acc: 0.9909\n",
            "Epoch 3/5\n",
            "131/131 [==============================] - 5s 38ms/step - loss: 0.0297 - acc: 0.9916\n",
            "Epoch 4/5\n",
            "131/131 [==============================] - 5s 39ms/step - loss: 0.0283 - acc: 0.9921\n",
            "Epoch 5/5\n",
            "131/131 [==============================] - 5s 38ms/step - loss: 0.0281 - acc: 0.9916\n"
          ],
          "name": "stdout"
        }
      ]
    },
    {
      "cell_type": "code",
      "metadata": {
        "colab": {
          "base_uri": "https://localhost:8080/"
        },
        "id": "-pyjk-mLgZWG",
        "outputId": "df77e392-e64e-4923-c535-e299564e9fe2"
      },
      "source": [
        "results = model.evaluate(np.array(testing_text_data), np.array(testing_text_label))\n",
        "\n",
        "print(results)"
      ],
      "execution_count": null,
      "outputs": [
        {
          "output_type": "stream",
          "text": [
            "44/44 [==============================] - 1s 22ms/step - loss: 0.0661 - acc: 0.9878\n",
            "[0.06608466058969498, 0.9877873659133911]\n"
          ],
          "name": "stdout"
        }
      ]
    },
    {
      "cell_type": "code",
      "metadata": {
        "id": "OqVSk2hZQkOS",
        "colab": {
          "base_uri": "https://localhost:8080/"
        },
        "outputId": "3e259e27-a424-4e78-acb9-7fd7d4150d10"
      },
      "source": [
        "# function to predict messages based on model\n",
        "# (should return list containing prediction and label, ex. [0.008318834938108921, 'ham'])\n",
        "def predict_message(pred_text):\n",
        "\n",
        "  pred_text2int = text_to_int(pred_text)\n",
        "  pred = np.zeros((1,maxlen))\n",
        "  pred[0] = pred_text2int\n",
        "  result = model.predict(pred)\n",
        "\n",
        "  prediction = list(result[0])\n",
        "  if result < 0.5:\n",
        "    prediction.append(\"ham\")\n",
        "  else:\n",
        "    prediction.append(\"spam\")\n",
        "\n",
        "  return (prediction)\n",
        "\n",
        "pred_text = \"how are you doing today?\"\n",
        "\n",
        "prediction = predict_message(pred_text)\n",
        "print(prediction)"
      ],
      "execution_count": null,
      "outputs": [
        {
          "output_type": "stream",
          "text": [
            "[0.000106733765, 'ham']\n"
          ],
          "name": "stdout"
        }
      ]
    },
    {
      "cell_type": "code",
      "metadata": {
        "colab": {
          "base_uri": "https://localhost:8080/"
        },
        "id": "1oFayUg8WeAi",
        "outputId": "4dca718e-0cff-4c67-a8fa-0d212bbf8322"
      },
      "source": [
        "# Run this cell to test your function and model. Do not modify contents.\n",
        "def test_predictions():\n",
        "  test_messages = [\"how are you doing today\",\n",
        "                   \"sale today! to stop texts call 98912460324\",\n",
        "                   \"i dont want to go. can we try it a different day? available sat\",\n",
        "                   \"our new mobile video service is live. just install on your phone to start watching.\",\n",
        "                   \"you have won £1000 cash! call to claim your prize.\",\n",
        "                   \"i'll bring it tomorrow. don't forget the milk.\",\n",
        "                   \"wow, is your arm alright. that happened to me one time too\"\n",
        "                  ]\n",
        "\n",
        "  test_answers = [\"ham\", \"spam\", \"ham\", \"spam\", \"spam\", \"ham\", \"ham\"]\n",
        "  passed = True\n",
        "  list_of_pred = []\n",
        "  for msg, ans in zip(test_messages, test_answers):\n",
        "    prediction = predict_message(msg)\n",
        "    list_of_pred.append(prediction)\n",
        "    if prediction[1] != ans:\n",
        "      passed = False\n",
        "\n",
        "  print(list_of_pred)\n",
        "\n",
        "  if passed:\n",
        "    print(\"You passed the challenge. Great job!\")\n",
        "  else:\n",
        "    print(\"You haven't passed yet. Keep trying.\")\n",
        "\n",
        "test_predictions()"
      ],
      "execution_count": null,
      "outputs": [
        {
          "output_type": "stream",
          "text": [
            "[[0.00034755946, 'ham'], [0.99918276, 'spam'], [0.0014556174, 'ham'], [0.00061522675, 'ham'], [0.9927176, 'spam'], [5.1708244e-05, 'ham'], [0.0011902421, 'ham']]\n",
            "You haven't passed yet. Keep trying.\n"
          ],
          "name": "stdout"
        }
      ]
    },
    {
      "cell_type": "code",
      "metadata": {
        "id": "HfQJQaRQms5_"
      },
      "source": [
        ""
      ],
      "execution_count": null,
      "outputs": []
    }
  ]
}